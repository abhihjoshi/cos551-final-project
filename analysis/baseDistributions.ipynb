{
 "cells": [
  {
   "cell_type": "code",
   "execution_count": null,
   "metadata": {},
   "outputs": [],
   "source": [
    "# QCB455/COS551 Final Project Base Distributions\n",
    "# Author: Supraj Gunda\n",
    "# Produces figure 1 from the paper\n",
    "\n",
    "# imports\n",
    "from Bio import SeqIO\n",
    "import matplotlib.pyplot as plt\n",
    "import numpy as np"
   ]
  },
  {
   "cell_type": "code",
   "execution_count": null,
   "metadata": {},
   "outputs": [],
   "source": [
    "# counts bases in all each of the fasta files, counts array is size (# of fasta files, 5)\n",
    "def countBases(fastaFiles):\n",
    "    counts = []\n",
    "    for fastaFile in fastaFiles:\n",
    "        base_count = [0, 0, 0, 0, 0]\n",
    "\n",
    "        # did not include other because so miniscule\n",
    "        for genome in SeqIO.parse(fastaFile, \"fasta\"):\n",
    "            # making the genomes readable\n",
    "            sequence = str(genome.seq).upper()\n",
    "            base_count[0] = base_count[0] + sequence.count(\"A\")\n",
    "            base_count[1] = base_count[1] + sequence.count(\"C\")\n",
    "            base_count[2] = base_count[2] + sequence.count(\"G\")\n",
    "            base_count[3] = base_count[3] + sequence.count(\"T\")\n",
    "            base_count[4] = base_count[4] + sequence.count(\"N\")\n",
    "        counts.append(base_count)\n",
    "    return counts\n"
   ]
  },
  {
   "cell_type": "code",
   "execution_count": null,
   "metadata": {},
   "outputs": [],
   "source": [
    "def plotBarChart(counts, fastaFiles):\n",
    "\n",
    "    labels = [\"A\", \"C\", \"G\", \"T\", \"N\"]\n",
    "    # \"other\"\n",
    "    \n",
    "    # extract frequency of all nucleotides for all genomes\n",
    "    baseVals = {}\n",
    "    for i, label in enumerate(labels):\n",
    "        temp = []\n",
    "        for base_count in counts:\n",
    "            temp.append(base_count[i])\n",
    "        baseVals[label] = temp\n",
    "\n",
    "    x = np.arange(len(fastaFiles)) \n",
    "    bottom = np.zeros(len(fastaFiles)) \n",
    "    colors = [\"#1f77b4\", \"#ff7f0e\", \"#2ca02c\", \"#d62728\", \"#9467bd\"]\n",
    "    \n",
    "    fig, ax = plt.subplots(figsize=(10, 6))\n",
    "    \n",
    "    # set height of every bar and placement along x axis\n",
    "    for i in range(len(labels)):\n",
    "        label = labels[i]\n",
    "        color = colors[i]\n",
    "        ax.bar(x, baseVals[label], 0.8, label=label, color=color, bottom=bottom)\n",
    "        bottom += baseVals[label]\n",
    "    \n",
    "    # labels\n",
    "    ax.set_xlabel(\"Genomes\", fontsize=15)\n",
    "    ax.set_ylabel(\"Base Counts (1e9)\", fontsize=15)\n",
    "    ax.set_title(\"Nucleotide Base Distribution Across Genomes\", fontsize=20)\n",
    "    ax.set_xticks(x)\n",
    "    ax.set_xticklabels([    \n",
    "    'Ash1',\n",
    "    'ASM',\n",
    "    'hg',\n",
    "    'h38',\n",
    "    'T2T',\n",
    "    'mouse',\n",
    "    'dog',\n",
    "    'cattle',\n",
    "    'pig'])\n",
    "\n",
    "    # making layout better for viewing in papers\n",
    "    ax.legend(title=\"Bases\", loc=4, prop={'size': 12})\n",
    "    ax.tick_params(axis='both', which='major', labelsize=13)\n",
    "    plt.tight_layout()\n",
    "    plt.show()\n"
   ]
  },
  {
   "cell_type": "code",
   "execution_count": null,
   "metadata": {},
   "outputs": [],
   "source": [
    "# making it generalizable in case we want to add more genomes to the pipeline\n",
    "fasta_files = [\n",
    "    '/Users/Supraj1/qcb455/fastaFiles/GCA_Ash1.fna',\n",
    "    '/Users/Supraj1/qcb455/fastaFiles/GCA_ASM.fna',\n",
    "    '/Users/Supraj1/qcb455/fastaFiles/GCA_hg.fna',\n",
    "    '/Users/Supraj1/qcb455/fastaFiles/GCF_GRCh38.fna',\n",
    "    '/Users/Supraj1/qcb455/fastaFiles/GCF_T2T.fna',\n",
    "    '/Users/Supraj1/qcb455/fastaFiles/GCF_mouse.fna',\n",
    "    '/Users/Supraj1/qcb455/fastaFiles/GCF_dog.fna',\n",
    "    '/Users/Supraj1/qcb455/fastaFiles/GCF_cattle.fna',\n",
    "    '/Users/Supraj1/qcb455/fastaFiles/GCF_pig.fna'\n",
    "]\n",
    "\n",
    "# get frequency of each base and plot\n",
    "base_counts = countBases(fasta_files)\n",
    "plotBarChart(base_counts, fasta_files)"
   ]
  }
 ],
 "metadata": {
  "kernelspec": {
   "display_name": "Python 3",
   "language": "python",
   "name": "python3"
  },
  "language_info": {
   "name": "python",
   "version": "3.10.6"
  }
 },
 "nbformat": 4,
 "nbformat_minor": 2
}
