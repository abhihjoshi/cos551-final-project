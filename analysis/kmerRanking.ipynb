{
 "cells": [
  {
   "cell_type": "code",
   "execution_count": null,
   "metadata": {},
   "outputs": [],
   "source": [
    "# QCB455/COS551 Final Project Kmer Rankings\n",
    "# Author: Supraj Gunda\n",
    "# Does not produce the final k-mer plot shown in final paper, but this attempt at graphing k-mers was made by Supraj.\n",
    "\n",
    "# imports\n",
    "from Bio import SeqIO\n",
    "from collections import Counter\n",
    "import pandas as pd\n",
    "import matplotlib.pyplot as plt"
   ]
  },
  {
   "cell_type": "code",
   "execution_count": null,
   "metadata": {},
   "outputs": [],
   "source": [
    "def countKmers(seq, k):\n",
    "    kmersCount = Counter()\n",
    "\n",
    "    # so you don't start reading after sequence ends\n",
    "    for i in range((len(seq) - k) + 1):\n",
    "        # go through k-length windows and see if the sequence in the window matches possible kmers\n",
    "        kmer = seq[i:(i + k)]\n",
    "        kmersCount[kmer] += 1\n",
    "\n",
    "    return kmersCount"
   ]
  },
  {
   "cell_type": "code",
   "execution_count": null,
   "metadata": {},
   "outputs": [],
   "source": [
    "# rank the kmers in order of frequency\n",
    "def rankKmers(fasta_files, k, topN=15):\n",
    "    rankedData = []\n",
    "    \n",
    "    for fasta_file in fasta_files:\n",
    "        genome_name = fasta_file.split('/')[-1]\n",
    "        kmerCounter = Counter()\n",
    "        \n",
    "        # Count kmers in each genome from the fasta files\n",
    "        for genome in SeqIO.parse(fasta_file, \"fasta\"):\n",
    "            readableGenome = str(genome.seq)\n",
    "            kmerCounter.update(countKmers(readableGenome, k))\n",
    "        \n",
    "        # extract the top 15 kmers, for example\n",
    "        sorted = kmerCounter.most_common(topN)\n",
    "\n",
    "        # must format like this so can transform into df easily\n",
    "        for rank, (kmerIdentity, freq) in enumerate(sorted, start=1):\n",
    "            rankedData.append({\"Dataset\": genome_name, \"k-mer\": kmerIdentity, \"Rank\": rank, \"Count\": freq})\n",
    "    \n",
    "    return pd.DataFrame(rankedData)"
   ]
  },
  {
   "cell_type": "code",
   "execution_count": null,
   "metadata": {},
   "outputs": [],
   "source": [
    "def plotKmers(rankDF, topN=4):\n",
    "    # create table\n",
    "    rankPivot = rankDF.pivot(index=\"k-mer\", columns=\"Dataset\", values=\"Rank\")\n",
    "    rankPivot = rankPivot.index[:topN]\n",
    "    \n",
    "    # begin plot\n",
    "    plt.figure(figsize=(12, 6))\n",
    "    for kmer in rankPivot: \n",
    "        plt.plot(rankPivot.columns, rankPivot.loc[kmer], marker='o', label=kmer)\n",
    "    \n",
    "    plt.gca().invert_yaxis() \n",
    "    plt.xlabel(\"Dataset\")\n",
    "    plt.ylabel(\"Rank\")\n",
    "    plt.title(f\"Top {topN} k-mer Rankings\")\n",
    "    plt.xticks(rotation=45, ha='right')\n",
    "    plt.legend(title=\"k-mer\", bbox_to_anchor=(1.05, 1), loc='upper left')\n",
    "    plt.tight_layout()\n",
    "    \n",
    "    plt.show()"
   ]
  },
  {
   "cell_type": "code",
   "execution_count": null,
   "metadata": {},
   "outputs": [],
   "source": [
    "# so you can add more genomes in the future if necessary\n",
    "fastaFiles = [\n",
    "    '/Users/Supraj1/qcb455/fastaFiles/GCA_Ash1.fna',\n",
    "    '/Users/Supraj1/qcb455/fastaFiles/GCA_ASM.fna',\n",
    "    '/Users/Supraj1/qcb455/fastaFiles/GCA_hg.fna',\n",
    "    '/Users/Supraj1/qcb455/fastaFiles/GCF_GRCh38.fna',\n",
    "    '/Users/Supraj1/qcb455/fastaFiles/GCF_T2T.fna']\n",
    "k = 4\n",
    "topN = 15\n",
    "\n",
    "# can't combine all methods into one function as there will be not enough memory otherwise\n",
    "rankDF = rankKmers(fastaFiles, k, topN)\n",
    "\n",
    "# save ranks so that you can remove them from RAM - otherwise there will not be enough RAM to make the entire graph\n",
    "rankDF.to_csv(\"kmerRanks.csv\", index=False)\n",
    "\n",
    "# plot\n",
    "plotKmers(rankDF, topN)\n"
   ]
  }
 ],
 "metadata": {
  "kernelspec": {
   "display_name": "Python 3",
   "language": "python",
   "name": "python3"
  },
  "language_info": {
   "name": "python",
   "version": "3.10.6"
  }
 },
 "nbformat": 4,
 "nbformat_minor": 2
}
