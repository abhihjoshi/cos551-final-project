{
 "cells": [
  {
   "cell_type": "code",
   "execution_count": 1,
   "metadata": {},
   "outputs": [
    {
     "name": "stderr",
     "output_type": "stream",
     "text": [
      "/Users/abhishek/miniconda3/envs/cos551/lib/python3.9/site-packages/genomic_benchmarks/utils/datasets.py:11: TqdmWarning: IProgress not found. Please update jupyter and ipywidgets. See https://ipywidgets.readthedocs.io/en/stable/user_install.html\n",
      "  from tqdm.autonotebook import tqdm\n"
     ]
    }
   ],
   "source": [
    "import argparse\n",
    "from genomic_benchmarks.dataset_getters.pytorch_datasets import (\n",
    "    HumanEnhancersEnsembl,\n",
    "    HumanNontataPromoters,\n",
    "    HumanOcrEnsembl\n",
    ")\n",
    "\n",
    "from Bio.Seq import Seq\n",
    "from Bio.SeqRecord import SeqRecord\n",
    "from Bio import SeqIO"
   ]
  },
  {
   "cell_type": "code",
   "execution_count": 2,
   "metadata": {},
   "outputs": [],
   "source": [
    "human_enhancers = HumanEnhancersEnsembl(split='train', version=0)\n",
    "human_promoters = HumanNontataPromoters(split='train', version=0)\n",
    "human_ocr = HumanOcrEnsembl(split='train', version=0)"
   ]
  },
  {
   "cell_type": "code",
   "execution_count": 6,
   "metadata": {},
   "outputs": [],
   "source": [
    "human_enhancers_test = HumanEnhancersEnsembl(split='test', version=0)\n",
    "human_promoters_test = HumanNontataPromoters(split='test', version=0)\n",
    "human_ocr_test = HumanOcrEnsembl(split='test', version=0)"
   ]
  },
  {
   "cell_type": "code",
   "execution_count": 4,
   "metadata": {},
   "outputs": [
    {
     "data": {
      "text/plain": [
       "('CGGAAGGTTTACACTTCAAGGCTGACACTATTAAGTCTTCAGCATCAGAAAGTACTGTATGCAGTAACCACAAAGTAACCAGAAAGGGGCTGGCTTCTAGATACTTTTACATTTGGTTAAAATAATCCCAGTCAGGGCACCAGGTGAGTCTCTTCAAGCGCAGGGCTGAAGCTAAGCCAGGTTCATCCCATGTTCCACGCACAGGGGCACGTGCCCCATTAGTCAGTTTTTCTCTTACTCCTCAGGCTGCCCCTCAGCCCTCTCTGCCTGCGCACACCCTCCTCAGGAAGCAAACTCTATTTCAAATGTTTACTCATTTCCTGTTGCCCTCACATCAAATCCTGAGGTGTGCTTCCTCACTACTGTCCCTGAGTCTAAGCAATCTAGGTCAATGTACAACTCTCTCAAGGAACAAACTCA',\n",
       " 0)"
      ]
     },
     "execution_count": 4,
     "metadata": {},
     "output_type": "execute_result"
    }
   ],
   "source": [
    "human_enhancers[0]"
   ]
  },
  {
   "cell_type": "code",
   "execution_count": 5,
   "metadata": {},
   "outputs": [
    {
     "name": "stdout",
     "output_type": "stream",
     "text": [
      "FASTA file written successfully!\n"
     ]
    }
   ],
   "source": [
    "# generating fasta sequence data for training enhancers\n",
    "sequences = [\n",
    "    {\"id\": f\"seq{i}\", \"sequence\": data[0]} \n",
    "        for i, data in enumerate(human_enhancers)\n",
    "]\n",
    "\n",
    "# Convert to SeqRecord objects\n",
    "records = [SeqRecord(Seq(entry[\"sequence\"]), id=entry[\"id\"], description=\"\") for entry in sequences]\n",
    "\n",
    "# Write to a FASTA file\n",
    "with open(\"human_enhancers.txt\", \"w\") as fasta_file:\n",
    "    SeqIO.write(records, fasta_file, \"fasta\")\n",
    "\n",
    "print(\"FASTA file written successfully!\")"
   ]
  },
  {
   "cell_type": "code",
   "execution_count": 7,
   "metadata": {},
   "outputs": [
    {
     "name": "stdout",
     "output_type": "stream",
     "text": [
      "FASTA file written successfully!\n"
     ]
    }
   ],
   "source": [
    "# generating fasta sequence data for testing enhancers\n",
    "sequences = [\n",
    "    {\"id\": f\"seq{i}\", \"sequence\": data[0]} \n",
    "        for i, data in enumerate(human_enhancers_test)\n",
    "]\n",
    "\n",
    "# Convert to SeqRecord objects\n",
    "records = [SeqRecord(Seq(entry[\"sequence\"]), id=entry[\"id\"], description=\"\") for entry in sequences]\n",
    "\n",
    "# Write to a FASTA file\n",
    "with open(\"human_enhancers_test.txt\", \"w\") as fasta_file:\n",
    "    SeqIO.write(records, fasta_file, \"fasta\")\n",
    "\n",
    "print(\"FASTA file written successfully!\")"
   ]
  }
 ],
 "metadata": {
  "kernelspec": {
   "display_name": "cos551",
   "language": "python",
   "name": "python3"
  },
  "language_info": {
   "codemirror_mode": {
    "name": "ipython",
    "version": 3
   },
   "file_extension": ".py",
   "mimetype": "text/x-python",
   "name": "python",
   "nbconvert_exporter": "python",
   "pygments_lexer": "ipython3",
   "version": "3.9.20"
  }
 },
 "nbformat": 4,
 "nbformat_minor": 2
}
